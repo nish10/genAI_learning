{
 "cells": [
  {
   "cell_type": "code",
   "execution_count": 11,
   "id": "00561d2c",
   "metadata": {},
   "outputs": [],
   "source": [
    "import os\n",
    "import sys\n",
    "import json\n",
    "from dotenv import load_dotenv\n",
    "from anthropic import Anthropic\n",
    "from anthropic import __version__ as sdk_version"
   ]
  },
  {
   "cell_type": "code",
   "execution_count": 12,
   "id": "a65a78e8",
   "metadata": {},
   "outputs": [],
   "source": [
    "# Load API key\n",
    "load_dotenv()\n",
    "api_key = os.getenv(\"ANTHROPIC_API_KEY\")\n",
    "if not api_key:\n",
    "    sys.exit(\"⚠️ Missing ANTHROPIC_API_KEY in .env\")"
   ]
  },
  {
   "cell_type": "code",
   "execution_count": 13,
   "id": "d4c90127",
   "metadata": {},
   "outputs": [],
   "source": [
    "# Initialize client\n",
    "client = anthropic.Client(api_key=api_key)"
   ]
  },
  {
   "cell_type": "code",
   "execution_count": 14,
   "id": "0821bbb6",
   "metadata": {},
   "outputs": [
    {
     "name": "stdout",
     "output_type": "stream",
     "text": [
      "SDK version: 0.52.2\n",
      "Using Haiku model: claude-3-5-haiku-20241022\n"
     ]
    }
   ],
   "source": [
    "# 3) List available models & pick the first Haiku variant :contentReference[oaicite:1]{index=1}\n",
    "print(f\"SDK version: {sdk_version}\")\n",
    "models_resp = client.models.list()     # GET /v1/models\n",
    "haiku_models = [m.id for m in models_resp.data if \"haiku\" in m.id.lower()]\n",
    "if not haiku_models:\n",
    "    sys.exit(\"⚠️ No Haiku model found in Anthropic’s API.\")\n",
    "model_id = haiku_models[0]\n",
    "print(\"Using Haiku model:\", model_id)"
   ]
  },
  {
   "cell_type": "code",
   "execution_count": 16,
   "id": "ad0e4cd0",
   "metadata": {},
   "outputs": [
    {
     "name": "stdout",
     "output_type": "stream",
     "text": [
      "\n",
      "=== Simple Completion ===\n"
     ]
    }
   ],
   "source": [
    "# 4) Simple completion (Messages API)\n",
    "print(\"\\n=== Simple Completion ===\")\n",
    "resp = client.messages.create(\n",
    "    model=model_id,\n",
    "    messages=[{\"role\": \"user\", \"content\": \"Tell me a fun fact about space.\"}],\n",
    "    max_tokens=80,\n",
    "    temperature=0.7\n",
    ")"
   ]
  },
  {
   "cell_type": "code",
   "execution_count": 17,
   "id": "0c5827ed",
   "metadata": {},
   "outputs": [
    {
     "name": "stdout",
     "output_type": "stream",
     "text": [
      "Did you know that on Venus, a day is longer than a year? Venus rotates so slowly that it takes 243 Earth days to complete one rotation on its axis, while it only takes 225 Earth days to complete its orbit around the Sun. This means a single day on Venus is actually longer than its year!\n"
     ]
    }
   ],
   "source": [
    "# resp.content is a list of content blocks with .type and .text\n",
    "simple_text = \"\".join(\n",
    "    block.text for block in resp.content if block.type == \"text\"\n",
    ")\n",
    "print(simple_text)"
   ]
  },
  {
   "cell_type": "code",
   "execution_count": 19,
   "id": "69f15216",
   "metadata": {},
   "outputs": [
    {
     "name": "stdout",
     "output_type": "stream",
     "text": [
      "\n",
      "=== Streaming Response ===\n",
      "Here's a 4-line poem about code:\n",
      "\n",
      "Lines of logic, dancing light,\n",
      "Syntax weaving patterns bright,\n",
      "Algorithms solving puzzles deep,\n",
      "Where human thought and machine meet.\n"
     ]
    }
   ],
   "source": [
    "# 5) Streaming response\n",
    "print(\"\\n=== Streaming Response ===\")\n",
    "with client.messages.stream(\n",
    "    model=model_id,\n",
    "    messages=[{\"role\": \"user\", \"content\": \"Write a 4-line poem about code.\"}],\n",
    "    max_tokens=60,\n",
    "    temperature=0.5\n",
    ") as stream:\n",
    "    for text in stream.text_stream:  # incremental text chunks\n",
    "        print(text, end=\"\", flush=True)\n",
    "    print()"
   ]
  },
  {
   "cell_type": "code",
   "execution_count": null,
   "id": "453cb075",
   "metadata": {},
   "outputs": [],
   "source": []
  }
 ],
 "metadata": {
  "kernelspec": {
   "display_name": "Python 3 (ipykernel)",
   "language": "python",
   "name": "python3"
  },
  "language_info": {
   "codemirror_mode": {
    "name": "ipython",
    "version": 3
   },
   "file_extension": ".py",
   "mimetype": "text/x-python",
   "name": "python",
   "nbconvert_exporter": "python",
   "pygments_lexer": "ipython3",
   "version": "3.12.11"
  }
 },
 "nbformat": 4,
 "nbformat_minor": 5
}
